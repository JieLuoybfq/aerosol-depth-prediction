{
 "cells": [
  {
   "cell_type": "code",
   "execution_count": 7,
   "metadata": {
    "collapsed": true
   },
   "outputs": [],
   "source": [
    "from __future__ import absolute_import\n",
    "from __future__ import division\n",
    "from __future__ import print_function\n",
    "\n",
    "import itertools\n",
    "\n",
    "import pandas as pd\n",
    "import tensorflow as tf\n",
    "\n",
    "tf.logging.set_verbosity(tf.logging.INFO)"
   ]
  },
  {
   "cell_type": "code",
   "execution_count": 18,
   "metadata": {
    "collapsed": false
   },
   "outputs": [
    {
     "name": "stdout",
     "output_type": "stream",
     "text": [
      "        crim    zn  indus    nox     rm    age      dis  tax  ptratio  medv\n",
      "0    0.13587   0.0  10.59  0.489  6.064   59.1   4.2392  277     18.6  24.4\n",
      "1    0.08664  45.0   3.44  0.437  7.178   26.3   6.4798  398     15.2  36.4\n",
      "2    0.26938   0.0   9.90  0.544  6.266   82.8   3.2628  304     18.4  21.6\n",
      "3    0.05302   0.0   3.41  0.489  7.079   63.1   3.4145  270     17.8  28.7\n",
      "4    0.06860   0.0   2.89  0.445  7.416   62.5   3.4952  276     18.0  33.2\n",
      "5    0.14231   0.0  10.01  0.547  6.254   84.2   2.2565  432     17.8  18.5\n",
      "6    0.16760   0.0   7.38  0.493  6.426   52.3   4.5404  287     19.6  23.8\n",
      "7    0.04301  80.0   1.91  0.413  5.663   21.9  10.5857  334     22.0  18.2\n",
      "8    0.06905   0.0   2.18  0.458  7.147   54.2   6.0622  222     18.7  36.2\n",
      "9    0.21719   0.0  10.59  0.489  5.807   53.8   3.6526  277     18.6  22.4\n",
      "10   0.06076   0.0  11.93  0.573  6.976   91.0   2.1675  273     21.0  23.9\n",
      "11   4.03841   0.0  18.10  0.532  6.229   90.7   3.0993  666     20.2  19.6\n",
      "12   0.16902   0.0  25.65  0.581  5.986   88.4   1.9929  188     19.1  21.4\n",
      "13   0.52693   0.0   6.20  0.504  8.725   83.0   2.8944  307     17.4  50.0\n",
      "14  12.04820   0.0  18.10  0.614  5.648   87.6   1.9512  666     20.2  20.8\n",
      "15   3.16360   0.0  18.10  0.655  5.759   48.2   3.0665  666     20.2  19.9\n",
      "16   0.10008   0.0   2.46  0.488  6.563   95.6   2.8470  193     17.8  32.5\n",
      "17   2.15505   0.0  19.58  0.871  5.628  100.0   1.5166  403     14.7  15.6\n",
      "18   0.03584  80.0   3.37  0.398  6.290   17.8   6.6115  337     16.1  23.5\n",
      "19   0.13554  12.5   6.07  0.409  5.594   36.8   6.4980  345     18.9  17.4\n",
      "20  17.86670   0.0  18.10  0.671  6.223  100.0   1.3861  666     20.2  10.2\n",
      "21   0.09378  12.5   7.87  0.524  5.889   39.0   5.4509  311     15.2  21.7\n",
      "22   0.05372   0.0  13.92  0.437  6.549   51.0   5.9604  289     16.0  27.1\n",
      "23   9.96654   0.0  18.10  0.740  6.485  100.0   1.9784  666     20.2  15.4\n",
      "24   3.84970   0.0  18.10  0.770  6.395   91.0   2.5052  666     20.2  21.7\n",
      "25   0.47547   0.0   9.90  0.544  6.113   58.8   4.0019  304     18.4  21.0\n",
      "26   0.06642   0.0   4.05  0.510  6.860   74.4   2.9153  296     16.6  29.9\n",
      "27   0.04011  80.0   1.52  0.404  7.287   34.1   7.3090  329     12.6  33.3\n",
      "28   0.40202   0.0   9.90  0.544  6.382   67.2   3.5325  304     18.4  23.1\n",
      "29   0.04527   0.0  11.93  0.573  6.120   76.7   2.2875  273     21.0  20.6\n",
      "..       ...   ...    ...    ...    ...    ...      ...  ...      ...   ...\n",
      "70   0.10084   0.0  10.01  0.547  6.715   81.6   2.6775  432     17.8  22.8\n",
      "71   0.08707   0.0  12.83  0.437  6.140   45.8   4.0905  398     18.7  20.8\n",
      "72   0.35114   0.0   7.38  0.493  6.041   49.9   4.7211  287     19.6  20.4\n",
      "73   0.11027  25.0   5.13  0.453  6.456   67.8   7.2255  284     19.7  22.2\n",
      "74   0.01501  80.0   2.01  0.435  6.635   29.7   8.3440  280     17.0  24.5\n",
      "75   9.51363   0.0  18.10  0.713  6.728   94.1   2.4961  666     20.2  14.9\n",
      "76   0.07503  33.0   2.18  0.472  7.420   71.9   3.0992  222     18.4  33.4\n",
      "77  11.16040   0.0  18.10  0.740  6.629   94.6   2.1247  666     20.2  13.4\n",
      "78   7.52601   0.0  18.10  0.713  6.417   98.3   2.1850  666     20.2  13.0\n",
      "79   2.73397   0.0  19.58  0.871  5.597   94.9   1.5257  403     14.7  15.4\n",
      "80   0.29090   0.0  21.89  0.624  6.174   93.6   1.6119  437     21.2  14.0\n",
      "81   9.33889   0.0  18.10  0.679  6.380   95.6   1.9682  666     20.2   9.5\n",
      "82   0.02498   0.0   1.89  0.518  6.540   59.7   6.2669  422     15.9  16.5\n",
      "83   0.12269   0.0   6.91  0.448  6.069   40.0   5.7209  233     17.9  21.2\n",
      "84   0.10959   0.0  11.93  0.573  6.794   89.3   2.3889  273     21.0  22.0\n",
      "85   0.08014   0.0   5.96  0.499  5.850   41.5   3.9342  279     19.2  21.0\n",
      "86   0.03113   0.0   4.39  0.442  6.014   48.5   8.0136  352     18.8  17.5\n",
      "87   5.82115   0.0  18.10  0.713  6.513   89.9   2.8016  666     20.2  20.2\n",
      "88   0.65665  20.0   3.97  0.647  6.842  100.0   2.0107  264     13.0  30.1\n",
      "89   0.79041   0.0   9.90  0.544  6.122   52.8   2.6403  304     18.4  22.1\n",
      "90   0.09266  34.0   6.09  0.433  6.495   18.4   5.4917  329     16.1  26.4\n",
      "91   0.17783   0.0   9.69  0.585  5.569   73.5   2.3999  391     19.2  17.5\n",
      "92   0.07013   0.0  13.89  0.550  6.642   85.1   3.4211  276     16.4  28.7\n",
      "93   0.41238   0.0   6.20  0.504  7.163   79.9   3.2157  307     17.4  31.6\n",
      "94  15.57570   0.0  18.10  0.580  5.926   71.0   2.9084  666     20.2  19.1\n",
      "95   0.13262   0.0   8.56  0.520  5.851   96.7   2.1069  384     20.9  19.5\n",
      "96   6.80117   0.0  18.10  0.713  6.081   84.4   2.7175  666     20.2  20.0\n",
      "97  12.80230   0.0  18.10  0.740  5.854   96.6   1.8956  666     20.2  10.8\n",
      "98  10.23300   0.0  18.10  0.614  6.185   96.7   2.1705  666     20.2  14.6\n",
      "99   0.35809   0.0   6.20  0.507  6.951   88.5   2.8617  307     17.4  26.7\n",
      "\n",
      "[100 rows x 10 columns]\n"
     ]
    }
   ],
   "source": [
    "COLUMNS = [\"crim\", \"zn\", \"indus\", \"nox\", \"rm\", \"age\",\n",
    "           \"dis\", \"tax\", \"ptratio\", \"medv\"]\n",
    "FEATURES = [\"crim\", \"zn\", \"indus\", \"nox\", \"rm\",\n",
    "            \"age\", \"dis\", \"tax\", \"ptratio\"]\n",
    "LABEL = \"medv\"\n",
    "\n",
    "training_set = pd.read_csv(\"boston_train.csv\", skipinitialspace=True,skiprows=1,names=COLUMNS)\n",
    "\n",
    "test_set = pd.read_csv(\"boston_test.csv\",skipinitialspace=True,skiprows=1,names=COLUMNS)\n",
    "\n",
    "prediction_set = pd.read_csv(\"boston_predict.csv\", skipinitialspace=True,skiprows=1, names=COLUMNS)\n",
    "print(test_set)"
   ]
  },
  {
   "cell_type": "code",
   "execution_count": 9,
   "metadata": {
    "collapsed": false
   },
   "outputs": [],
   "source": [
    "feature_cols=[tf.contrib.layers.real_valued_column(k) for k in FEATURES]"
   ]
  },
  {
   "cell_type": "code",
   "execution_count": 10,
   "metadata": {
    "collapsed": false,
    "scrolled": true
   },
   "outputs": [
    {
     "name": "stdout",
     "output_type": "stream",
     "text": [
      "INFO:tensorflow:Using default config.\n",
      "INFO:tensorflow:Using config: {'_task_id': 0, '_save_checkpoints_steps': None, '_cluster_spec': <tensorflow.python.training.server_lib.ClusterSpec object at 0x000001C8F8AB65F8>, '_is_chief': True, '_num_ps_replicas': 0, '_save_summary_steps': 100, '_tf_config': gpu_options {\n",
      "  per_process_gpu_memory_fraction: 1\n",
      "}\n",
      ", '_environment': 'local', '_evaluation_master': '', '_keep_checkpoint_every_n_hours': 10000, '_task_type': None, '_tf_random_seed': None, '_save_checkpoints_secs': 600, '_keep_checkpoint_max': 5, '_master': ''}\n"
     ]
    }
   ],
   "source": [
    "regressor = tf.contrib.learn.DNNRegressor(feature_columns=feature_cols,\n",
    "                                          hidden_units=[9, 9],\n",
    "                                          model_dir=\"/tmp/boston_model1\")"
   ]
  },
  {
   "cell_type": "code",
   "execution_count": 11,
   "metadata": {
    "collapsed": true
   },
   "outputs": [],
   "source": [
    "def input_fn(data_set):\n",
    "    \n",
    "    feature_cols = {k: tf.constant(data_set[k].values)\n",
    "                  for k in FEATURES}\n",
    "    labels = tf.constant(data_set[LABEL].values)\n",
    "    return feature_cols, labels"
   ]
  },
  {
   "cell_type": "code",
   "execution_count": 12,
   "metadata": {
    "collapsed": false
   },
   "outputs": [
    {
     "name": "stdout",
     "output_type": "stream",
     "text": [
      "WARNING:tensorflow:Rank of input Tensor (1) should be the same as output_rank (2) for column. Will attempt to expand dims. It is highly recommended that you resize your input, as this behavior may change.\n",
      "WARNING:tensorflow:Rank of input Tensor (1) should be the same as output_rank (2) for column. Will attempt to expand dims. It is highly recommended that you resize your input, as this behavior may change.\n",
      "WARNING:tensorflow:Rank of input Tensor (1) should be the same as output_rank (2) for column. Will attempt to expand dims. It is highly recommended that you resize your input, as this behavior may change.\n",
      "WARNING:tensorflow:Rank of input Tensor (1) should be the same as output_rank (2) for column. Will attempt to expand dims. It is highly recommended that you resize your input, as this behavior may change.\n",
      "WARNING:tensorflow:Rank of input Tensor (1) should be the same as output_rank (2) for column. Will attempt to expand dims. It is highly recommended that you resize your input, as this behavior may change.\n",
      "WARNING:tensorflow:Rank of input Tensor (1) should be the same as output_rank (2) for column. Will attempt to expand dims. It is highly recommended that you resize your input, as this behavior may change.\n",
      "WARNING:tensorflow:Rank of input Tensor (1) should be the same as output_rank (2) for column. Will attempt to expand dims. It is highly recommended that you resize your input, as this behavior may change.\n",
      "WARNING:tensorflow:Rank of input Tensor (1) should be the same as output_rank (2) for column. Will attempt to expand dims. It is highly recommended that you resize your input, as this behavior may change.\n",
      "WARNING:tensorflow:Rank of input Tensor (1) should be the same as output_rank (2) for column. Will attempt to expand dims. It is highly recommended that you resize your input, as this behavior may change.\n",
      "WARNING:tensorflow:From C:\\Users\\pinouche\\Anaconda3\\lib\\site-packages\\tensorflow\\contrib\\learn\\python\\learn\\estimators\\head.py:1362: scalar_summary (from tensorflow.python.ops.logging_ops) is deprecated and will be removed after 2016-11-30.\n",
      "Instructions for updating:\n",
      "Please switch to tf.summary.scalar. Note that tf.summary.scalar uses the node name instead of the tag. This means that TensorFlow will automatically de-duplicate summary names based on the scope they are created in. Also, passing a tensor or list of tags to a scalar summary op is no longer supported.\n",
      "INFO:tensorflow:Create CheckpointSaverHook.\n",
      "INFO:tensorflow:Saving checkpoints for 10001 into /tmp/boston_model1\\model.ckpt.\n",
      "INFO:tensorflow:step = 10001, loss = 32.2113\n",
      "INFO:tensorflow:global_step/sec: 1037.82\n",
      "INFO:tensorflow:step = 10101, loss = 31.9203\n",
      "INFO:tensorflow:global_step/sec: 1183.87\n",
      "INFO:tensorflow:step = 10201, loss = 31.9167\n",
      "INFO:tensorflow:global_step/sec: 1142.85\n",
      "INFO:tensorflow:step = 10301, loss = 31.2815\n",
      "INFO:tensorflow:global_step/sec: 1297.16\n",
      "INFO:tensorflow:step = 10401, loss = 30.9461\n",
      "INFO:tensorflow:global_step/sec: 1200.71\n",
      "INFO:tensorflow:step = 10501, loss = 30.8818\n",
      "INFO:tensorflow:global_step/sec: 1465.05\n",
      "INFO:tensorflow:step = 10601, loss = 31.5242\n",
      "INFO:tensorflow:global_step/sec: 1196.11\n",
      "INFO:tensorflow:step = 10701, loss = 31.3144\n",
      "INFO:tensorflow:global_step/sec: 1137.92\n",
      "INFO:tensorflow:step = 10801, loss = 31.0603\n",
      "INFO:tensorflow:global_step/sec: 1095.7\n",
      "INFO:tensorflow:step = 10901, loss = 30.9531\n",
      "INFO:tensorflow:global_step/sec: 1171.91\n",
      "INFO:tensorflow:step = 11001, loss = 30.8678\n",
      "INFO:tensorflow:global_step/sec: 1187.52\n",
      "INFO:tensorflow:step = 11101, loss = 30.7552\n",
      "INFO:tensorflow:global_step/sec: 1246.43\n",
      "INFO:tensorflow:step = 11201, loss = 30.7008\n",
      "INFO:tensorflow:global_step/sec: 1386.36\n",
      "INFO:tensorflow:step = 11301, loss = 30.5998\n",
      "INFO:tensorflow:global_step/sec: 1091.58\n",
      "INFO:tensorflow:step = 11401, loss = 30.5534\n",
      "INFO:tensorflow:global_step/sec: 888.413\n",
      "INFO:tensorflow:step = 11501, loss = 30.5034\n",
      "INFO:tensorflow:global_step/sec: 675.444\n",
      "INFO:tensorflow:step = 11601, loss = 30.444\n",
      "INFO:tensorflow:global_step/sec: 802.79\n",
      "INFO:tensorflow:step = 11701, loss = 30.5658\n",
      "INFO:tensorflow:global_step/sec: 1798.07\n",
      "INFO:tensorflow:step = 11801, loss = 30.3299\n",
      "INFO:tensorflow:global_step/sec: 1804.88\n",
      "INFO:tensorflow:step = 11901, loss = 30.2631\n",
      "INFO:tensorflow:global_step/sec: 1596.02\n",
      "INFO:tensorflow:step = 12001, loss = 30.1804\n",
      "INFO:tensorflow:global_step/sec: 1876.77\n",
      "INFO:tensorflow:step = 12101, loss = 30.1129\n",
      "INFO:tensorflow:global_step/sec: 2133.11\n",
      "INFO:tensorflow:step = 12201, loss = 30.0709\n",
      "INFO:tensorflow:global_step/sec: 1888.01\n",
      "INFO:tensorflow:step = 12301, loss = 29.9819\n",
      "INFO:tensorflow:global_step/sec: 1599.82\n",
      "INFO:tensorflow:step = 12401, loss = 29.8749\n",
      "INFO:tensorflow:global_step/sec: 1882.64\n",
      "INFO:tensorflow:step = 12501, loss = 29.8673\n",
      "INFO:tensorflow:global_step/sec: 1550.01\n",
      "INFO:tensorflow:step = 12601, loss = 29.7923\n",
      "INFO:tensorflow:global_step/sec: 1957.25\n",
      "INFO:tensorflow:step = 12701, loss = 29.6885\n",
      "INFO:tensorflow:global_step/sec: 1890.36\n",
      "INFO:tensorflow:step = 12801, loss = 29.6266\n",
      "INFO:tensorflow:global_step/sec: 1595.7\n",
      "INFO:tensorflow:step = 12901, loss = 29.5396\n",
      "INFO:tensorflow:global_step/sec: 1876\n",
      "INFO:tensorflow:step = 13001, loss = 29.4529\n",
      "INFO:tensorflow:global_step/sec: 2133.08\n",
      "INFO:tensorflow:step = 13101, loss = 29.3975\n",
      "INFO:tensorflow:global_step/sec: 1872.61\n",
      "INFO:tensorflow:step = 13201, loss = 29.3435\n",
      "INFO:tensorflow:global_step/sec: 1599.82\n",
      "INFO:tensorflow:step = 13301, loss = 29.3688\n",
      "INFO:tensorflow:global_step/sec: 1875.66\n",
      "INFO:tensorflow:step = 13401, loss = 29.4761\n",
      "INFO:tensorflow:global_step/sec: 2010.63\n",
      "INFO:tensorflow:step = 13501, loss = 29.4286\n",
      "INFO:tensorflow:global_step/sec: 1984.38\n",
      "INFO:tensorflow:step = 13601, loss = 30.3351\n",
      "INFO:tensorflow:global_step/sec: 1448.7\n",
      "INFO:tensorflow:step = 13701, loss = 29.5728\n",
      "INFO:tensorflow:global_step/sec: 2133\n",
      "INFO:tensorflow:step = 13801, loss = 29.3772\n",
      "INFO:tensorflow:global_step/sec: 1890.36\n",
      "INFO:tensorflow:step = 13901, loss = 29.0122\n",
      "INFO:tensorflow:global_step/sec: 1589.22\n",
      "INFO:tensorflow:step = 14001, loss = 28.9705\n",
      "INFO:tensorflow:global_step/sec: 1113.71\n",
      "INFO:tensorflow:step = 14101, loss = 28.9302\n",
      "INFO:tensorflow:global_step/sec: 1041.14\n",
      "INFO:tensorflow:step = 14201, loss = 28.891\n",
      "INFO:tensorflow:global_step/sec: 1319.02\n",
      "INFO:tensorflow:step = 14301, loss = 28.8529\n",
      "INFO:tensorflow:global_step/sec: 1599.77\n",
      "INFO:tensorflow:step = 14401, loss = 28.8158\n",
      "INFO:tensorflow:global_step/sec: 1722.92\n",
      "INFO:tensorflow:step = 14501, loss = 28.7797\n",
      "INFO:tensorflow:global_step/sec: 1784.26\n",
      "INFO:tensorflow:step = 14601, loss = 28.7447\n",
      "INFO:tensorflow:global_step/sec: 1562.4\n",
      "INFO:tensorflow:step = 14701, loss = 28.7105\n",
      "INFO:tensorflow:global_step/sec: 1784.29\n",
      "INFO:tensorflow:step = 14801, loss = 28.6771\n",
      "INFO:tensorflow:global_step/sec: 1666.67\n",
      "INFO:tensorflow:step = 14901, loss = 28.6447\n",
      "INFO:tensorflow:Saving checkpoints for 15000 into /tmp/boston_model1\\model.ckpt.\n",
      "INFO:tensorflow:Loss for final step: 28.6136.\n"
     ]
    },
    {
     "data": {
      "text/plain": [
       "DNNRegressor(params={'head': <tensorflow.contrib.learn.python.learn.estimators.head._RegressionHead object at 0x000001C8F8AB6048>, 'activation_fn': <function relu at 0x000001C8F845E8C8>, 'input_layer_min_slice_size': None, 'feature_columns': (_RealValuedColumn(column_name='crim', dimension=1, default_value=None, dtype=tf.float32, normalizer=None), _RealValuedColumn(column_name='zn', dimension=1, default_value=None, dtype=tf.float32, normalizer=None), _RealValuedColumn(column_name='indus', dimension=1, default_value=None, dtype=tf.float32, normalizer=None), _RealValuedColumn(column_name='nox', dimension=1, default_value=None, dtype=tf.float32, normalizer=None), _RealValuedColumn(column_name='rm', dimension=1, default_value=None, dtype=tf.float32, normalizer=None), _RealValuedColumn(column_name='age', dimension=1, default_value=None, dtype=tf.float32, normalizer=None), _RealValuedColumn(column_name='dis', dimension=1, default_value=None, dtype=tf.float32, normalizer=None), _RealValuedColumn(column_name='tax', dimension=1, default_value=None, dtype=tf.float32, normalizer=None), _RealValuedColumn(column_name='ptratio', dimension=1, default_value=None, dtype=tf.float32, normalizer=None)), 'dropout': None, 'hidden_units': [9, 9], 'embedding_lr_multipliers': None, 'gradient_clip_norm': None, 'optimizer': None})"
      ]
     },
     "execution_count": 12,
     "metadata": {},
     "output_type": "execute_result"
    }
   ],
   "source": [
    "regressor.fit(input_fn=lambda: input_fn(training_set), steps=5000)"
   ]
  },
  {
   "cell_type": "code",
   "execution_count": 13,
   "metadata": {
    "collapsed": false
   },
   "outputs": [
    {
     "name": "stdout",
     "output_type": "stream",
     "text": [
      "WARNING:tensorflow:Rank of input Tensor (1) should be the same as output_rank (2) for column. Will attempt to expand dims. It is highly recommended that you resize your input, as this behavior may change.\n",
      "WARNING:tensorflow:Rank of input Tensor (1) should be the same as output_rank (2) for column. Will attempt to expand dims. It is highly recommended that you resize your input, as this behavior may change.\n",
      "WARNING:tensorflow:Rank of input Tensor (1) should be the same as output_rank (2) for column. Will attempt to expand dims. It is highly recommended that you resize your input, as this behavior may change.\n",
      "WARNING:tensorflow:Rank of input Tensor (1) should be the same as output_rank (2) for column. Will attempt to expand dims. It is highly recommended that you resize your input, as this behavior may change.\n",
      "WARNING:tensorflow:Rank of input Tensor (1) should be the same as output_rank (2) for column. Will attempt to expand dims. It is highly recommended that you resize your input, as this behavior may change.\n",
      "WARNING:tensorflow:Rank of input Tensor (1) should be the same as output_rank (2) for column. Will attempt to expand dims. It is highly recommended that you resize your input, as this behavior may change.\n",
      "WARNING:tensorflow:Rank of input Tensor (1) should be the same as output_rank (2) for column. Will attempt to expand dims. It is highly recommended that you resize your input, as this behavior may change.\n",
      "WARNING:tensorflow:Rank of input Tensor (1) should be the same as output_rank (2) for column. Will attempt to expand dims. It is highly recommended that you resize your input, as this behavior may change.\n",
      "WARNING:tensorflow:Rank of input Tensor (1) should be the same as output_rank (2) for column. Will attempt to expand dims. It is highly recommended that you resize your input, as this behavior may change.\n",
      "WARNING:tensorflow:From C:\\Users\\pinouche\\Anaconda3\\lib\\site-packages\\tensorflow\\contrib\\learn\\python\\learn\\estimators\\head.py:1362: scalar_summary (from tensorflow.python.ops.logging_ops) is deprecated and will be removed after 2016-11-30.\n",
      "Instructions for updating:\n",
      "Please switch to tf.summary.scalar. Note that tf.summary.scalar uses the node name instead of the tag. This means that TensorFlow will automatically de-duplicate summary names based on the scope they are created in. Also, passing a tensor or list of tags to a scalar summary op is no longer supported.\n",
      "INFO:tensorflow:Starting evaluation at 2017-03-07-18:31:29\n",
      "INFO:tensorflow:Evaluation [1/1]\n",
      "INFO:tensorflow:Finished evaluation at 2017-03-07-18:31:29\n",
      "INFO:tensorflow:Saving dict for global step 15000: global_step = 15000, loss = 13.3096\n",
      "WARNING:tensorflow:Skipping summary for global_step, must be a float or np.float32.\n"
     ]
    }
   ],
   "source": [
    "ev = regressor.evaluate(input_fn=lambda: input_fn(test_set), steps=1)"
   ]
  },
  {
   "cell_type": "code",
   "execution_count": 14,
   "metadata": {
    "collapsed": false
   },
   "outputs": [
    {
     "name": "stdout",
     "output_type": "stream",
     "text": [
      "Loss: 13.309587\n"
     ]
    }
   ],
   "source": [
    "loss_score = ev[\"loss\"]\n",
    "print(\"Loss: {0:f}\".format(loss_score))"
   ]
  },
  {
   "cell_type": "code",
   "execution_count": 15,
   "metadata": {
    "collapsed": false
   },
   "outputs": [
    {
     "name": "stdout",
     "output_type": "stream",
     "text": [
      "WARNING:tensorflow:Rank of input Tensor (1) should be the same as output_rank (2) for column. Will attempt to expand dims. It is highly recommended that you resize your input, as this behavior may change.\n",
      "WARNING:tensorflow:Rank of input Tensor (1) should be the same as output_rank (2) for column. Will attempt to expand dims. It is highly recommended that you resize your input, as this behavior may change.\n",
      "WARNING:tensorflow:Rank of input Tensor (1) should be the same as output_rank (2) for column. Will attempt to expand dims. It is highly recommended that you resize your input, as this behavior may change.\n",
      "WARNING:tensorflow:Rank of input Tensor (1) should be the same as output_rank (2) for column. Will attempt to expand dims. It is highly recommended that you resize your input, as this behavior may change.\n",
      "WARNING:tensorflow:Rank of input Tensor (1) should be the same as output_rank (2) for column. Will attempt to expand dims. It is highly recommended that you resize your input, as this behavior may change.\n",
      "WARNING:tensorflow:Rank of input Tensor (1) should be the same as output_rank (2) for column. Will attempt to expand dims. It is highly recommended that you resize your input, as this behavior may change.\n",
      "WARNING:tensorflow:Rank of input Tensor (1) should be the same as output_rank (2) for column. Will attempt to expand dims. It is highly recommended that you resize your input, as this behavior may change.\n",
      "WARNING:tensorflow:Rank of input Tensor (1) should be the same as output_rank (2) for column. Will attempt to expand dims. It is highly recommended that you resize your input, as this behavior may change.\n",
      "WARNING:tensorflow:Rank of input Tensor (1) should be the same as output_rank (2) for column. Will attempt to expand dims. It is highly recommended that you resize your input, as this behavior may change.\n",
      "Predictions: [34.390099, 17.537806, 23.794096, 35.187134, 15.210985, 19.250265]\n"
     ]
    }
   ],
   "source": [
    "y = regressor.predict(input_fn=lambda: input_fn(prediction_set))\n",
    "# .predict() returns an iterator; convert to a list and print predictions\n",
    "predictions = list(itertools.islice(y, 6))\n",
    "print (\"Predictions: {}\".format(str(predictions)))"
   ]
  },
  {
   "cell_type": "code",
   "execution_count": null,
   "metadata": {
    "collapsed": true
   },
   "outputs": [],
   "source": []
  }
 ],
 "metadata": {
  "kernelspec": {
   "display_name": "Python [default]",
   "language": "python",
   "name": "python3"
  },
  "language_info": {
   "codemirror_mode": {
    "name": "ipython",
    "version": 3
   },
   "file_extension": ".py",
   "mimetype": "text/x-python",
   "name": "python",
   "nbconvert_exporter": "python",
   "pygments_lexer": "ipython3",
   "version": "3.5.2"
  }
 },
 "nbformat": 4,
 "nbformat_minor": 1
}
