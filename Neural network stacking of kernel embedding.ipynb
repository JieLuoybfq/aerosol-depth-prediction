{
 "cells": [
  {
   "cell_type": "code",
   "execution_count": 1,
   "metadata": {
    "collapsed": true,
    "deletable": true,
    "editable": true
   },
   "outputs": [],
   "source": [
    "import pandas as pd\n",
    "import numpy as np\n",
    "import matplotlib.pyplot as plt\n",
    "%matplotlib inline\n",
    "import seaborn as sns\n",
    "\n",
    "from sklearn.metrics import mean_squared_error\n",
    "from sklearn.preprocessing import scale\n",
    "from sklearn.model_selection import KFold\n",
    "from sklearn.neural_network import MLPRegressor\n",
    "\n",
    "from hyperopt import STATUS_OK, hp, fmin, tpe, Trials, space_eval\n",
    "\n",
    "import math"
   ]
  },
  {
   "cell_type": "markdown",
   "metadata": {
    "collapsed": true,
    "deletable": true,
    "editable": true
   },
   "source": [
    "*Prediction 9: RMSE-validation: 0.72545.\n",
    "Optimal theta: 16, lambda: 1.1921e-07 Public LB: 0.67536 base_kp.^[2:4]"
   ]
  },
  {
   "cell_type": "code",
   "execution_count": 2,
   "metadata": {
    "collapsed": true,
    "deletable": true,
    "editable": true
   },
   "outputs": [],
   "source": [
    "# Import data\n",
    "def load_data():\n",
    "    full_data = pd.read_csv(\"X.csv\")\n",
    "    train_y = pd.read_csv(\"ytr.csv\")\n",
    "    # Rename columns to something more interpretable\n",
    "    columns = ([\"reflectance_\" + str(i) for i in range(7)]\n",
    "               + [\"solar_\" + str(i) for i in range(5)] + [\"id\"])\n",
    "    full_data.columns = columns\n",
    "    \n",
    "    # Move ID column to the beginning\n",
    "    id_column = full_data[\"id\"]\n",
    "    full_data.drop(labels=[\"id\"], axis=1, inplace = True)\n",
    "    full_data.insert(0, \"id\", id_column)\n",
    "    # Add y to the data frame\n",
    "    split = 98000\n",
    "    y_id_dict = train_y.set_index(\"Id\")[\"y\"].to_dict()\n",
    "    full_data.loc[:(split-1), \"y\"] = full_data.loc[:(split-1), \"id\"].map(y_id_dict)\n",
    "\n",
    "    train, test = full_data[:split], full_data[split:]\n",
    "    return (train, test)\n",
    "\n",
    "\n",
    "train, test = load_data()\n",
    "\n",
    "# Parameters\n",
    "n_threads = -1\n",
    "random_seed = 8888"
   ]
  },
  {
   "cell_type": "markdown",
   "metadata": {
    "deletable": true,
    "editable": true
   },
   "source": [
    "### Preprocessing"
   ]
  },
  {
   "cell_type": "code",
   "execution_count": 3,
   "metadata": {
    "collapsed": false,
    "deletable": true,
    "editable": true
   },
   "outputs": [],
   "source": [
    "cols_excl = [\"id\", \"y\"]\n",
    "cols_orig = [c for c in train.columns if c not in cols_excl]\n",
    "\n",
    "# Standardise data for LR\n",
    "train[cols_orig] = scale(train[cols_orig])\n",
    "test[cols_orig] = scale(test[cols_orig])"
   ]
  },
  {
   "cell_type": "markdown",
   "metadata": {
    "deletable": true,
    "editable": true
   },
   "source": [
    "### Data generation for MATLAB"
   ]
  },
  {
   "cell_type": "code",
   "execution_count": 4,
   "metadata": {
    "collapsed": true,
    "deletable": true,
    "editable": true
   },
   "outputs": [],
   "source": [
    "#full_data = full_data.fillna(0)\n",
    "\n",
    "#cols_excl = [\"id\", \"y\"]\n",
    "#cols_orig = [c for c in full_data.columns if c not in cols_excl]\n",
    "\n",
    "# Standardise data for LR\n",
    "#full_data[cols_orig] = scale(full_data[cols_orig])\n",
    "\n",
    "# I did standardise the data\n",
    "#full_data.to_csv(\"aerosol_full.csv\", encoding=\"utf-8\", index=False, header=False)"
   ]
  },
  {
   "cell_type": "markdown",
   "metadata": {
    "deletable": true,
    "editable": true
   },
   "source": [
    "### Python mean embedding"
   ]
  },
  {
   "cell_type": "code",
   "execution_count": null,
   "metadata": {
    "collapsed": true,
    "deletable": true,
    "editable": true
   },
   "outputs": [],
   "source": [
    "# don't run\n",
    "def mean_embedding(X1, X2, kernel):\n",
    "    k = Kernel(kernel)\n",
    "    gram_mat = k.gram_matrix2(X1, X2)\n",
    "    # Number of instances in the bag\n",
    "    N = float(gram_mat.shape[0])\n",
    "    mu_X1_X2 = gram_mat.ravel().sum() / N**2\n",
    "    return (mu_X1_X2)\n",
    "\n",
    "nb_bag = 200#train[\"id\"].nunique()\n",
    "K_matrix = np.zeros((nb_bag, nb_bag))\n",
    "\n",
    "theta = 10**(-8)\n",
    "for i in range(nb_bag):\n",
    "    for j in range(nb_bag):\n",
    "        # Compute mean embedding\n",
    "        X1 = train.loc[train[\"id\"] == (i+1), cols_orig].values\n",
    "        X2 = train.loc[train[\"id\"] == (j+1), cols_orig].values\n",
    "        \n",
    "        K_matrix[i, j] = mean_embedding(X1, X2, {'name': 'invmquadr','c': theta})\n",
    "\n",
    "y_train = train[\"y\"].unique()[:200].reshape((-1, 1))\n",
    "l2_reg = 10**(-8)\n",
    "\n",
    "y_hat = []\n",
    "test_id_list = np.arange(980, 1100, dtype=int)\n",
    "\n",
    "for test_id in test_id_list:\n",
    "    K_test = np.zeros((1, nb_bag))\n",
    "\n",
    "    for j in range(nb_bag):\n",
    "        X1 = train.loc[train[\"id\"] == (j+1), cols_orig].values\n",
    "        X2 = test.loc[test[\"id\"] == test_id, cols_orig].values\n",
    "        K_test[0, j] = mean_embedding(X1, X2, {'name': 'invmquadr','c': theta})\n",
    "\n",
    "    # Ridge regression\n",
    "    ridge_mat = K_matrix + (l2_reg * nb_bag) * np.identity(nb_bag)\n",
    "    ridge_mat_inv = np.linalg.solve(ridge_mat, np.identity(nb_bag))\n",
    "    y_hat.append((K_test.dot(ridge_mat_inv)).dot(y_train)[0, 0])\n",
    "\n",
    "y_hat = np.array(y_hat)\n",
    "\n",
    "np.sqrt(mean_squared_error(y_hat, test[\"y\"].unique()[:120]))"
   ]
  },
  {
   "cell_type": "markdown",
   "metadata": {
    "deletable": true,
    "editable": true
   },
   "source": [
    "### Ridge regression"
   ]
  },
  {
   "cell_type": "code",
   "execution_count": 5,
   "metadata": {
    "collapsed": false,
    "deletable": true,
    "editable": true
   },
   "outputs": [],
   "source": [
    "# Class for ridge regression\n",
    "class RidgeRegression(object):\n",
    "    def __init__(self, l2_reg):\n",
    "        self.l2_reg = l2_reg\n",
    "\n",
    "    def fit(self, G, y):\n",
    "        # Train size\n",
    "        L_train = G.shape[0]\n",
    "        # Add the validation set later\n",
    "        ridge_mat = G + (self.l2_reg * L_train) * np.identity(L_train)\n",
    "        self.ridge_mat = ridge_mat\n",
    "        # Shape of y_train is (1, L_train)\n",
    "        self.y_train = y\n",
    "\n",
    "    def predict(self, G_test):\n",
    "        y_test_hat = self.y_train.dot(np.linalg.solve(self.ridge_mat, G_test))\n",
    "        return y_test_hat"
   ]
  },
  {
   "cell_type": "code",
   "execution_count": 6,
   "metadata": {
    "collapsed": true,
    "deletable": true,
    "editable": true
   },
   "outputs": [],
   "source": [
    "# Root mean squared error metric\n",
    "def RMSE(y, y_hat):\n",
    "    out = np.sqrt(mean_squared_error(y.reshape((-1,)), y_hat.reshape((-1,))))\n",
    "    return (out)"
   ]
  },
  {
   "cell_type": "markdown",
   "metadata": {},
   "source": [
    "### Set up"
   ]
  },
  {
   "cell_type": "code",
   "execution_count": 7,
   "metadata": {
    "collapsed": true
   },
   "outputs": [],
   "source": [
    "random_seed = 8\n",
    "n_folds = 5 # set folds for out-of-fold prediction\n",
    "# In KFold, random_state will only be used if shuffle is set to True\n",
    "kf = KFold(n_splits=n_folds, shuffle=False, random_state=random_seed)"
   ]
  },
  {
   "cell_type": "markdown",
   "metadata": {},
   "source": [
    "### Out-of-fold predictions"
   ]
  },
  {
   "cell_type": "code",
   "execution_count": 8,
   "metadata": {
    "collapsed": true
   },
   "outputs": [],
   "source": [
    "# G_train and G_test are pandas dataframes\n",
    "# lr is a ridge regression\n",
    "def oof_prediction(lr, G_train, y_train, G_test):\n",
    "    n_train = G_train.shape[0]\n",
    "    n_test = G_test.shape[1]\n",
    "    oof_train = np.zeros((n_train,))\n",
    "    oof_test = np.zeros((n_test,))\n",
    "    oof_test_folds = np.zeros((n_folds, n_test))\n",
    "\n",
    "    for i, (train_index, test_index) in enumerate(kf.split(G_train)):\n",
    "        G_tr = G_train.loc[train_index, train_index].values\n",
    "        y_tr = y_train[train_index].reshape((1, -1))\n",
    "        G_te = G_train.loc[train_index, test_index].values\n",
    "\n",
    "        lr.fit(G_tr, y_tr)\n",
    "        oof_train[test_index] = lr.predict(G_te)\n",
    "        G_test_partial = G_test.loc[train_index, :]\n",
    "        oof_test_folds[i, :] = lr.predict(G_test_partial.values)\n",
    "\n",
    "    oof_test = oof_test_folds.mean(axis=0)\n",
    "    return oof_train.reshape(-1, 1), oof_test.reshape(-1, 1)"
   ]
  },
  {
   "cell_type": "markdown",
   "metadata": {},
   "source": [
    "### First base predictors"
   ]
  },
  {
   "cell_type": "markdown",
   "metadata": {},
   "source": [
    "* __Cauchy__: theta: 16, lambda: 2**(-23)\n",
    "* __Matern3/2__: theta: 512, lambda: 2**(-33)\n",
    "* __Matern5/2__: theta: 64, lambda: 2**(-31)\n",
    "* __Rational quadratic__: theta: 512, lambda: 2**(-26)"
   ]
  },
  {
   "cell_type": "code",
   "execution_count": 9,
   "metadata": {
    "collapsed": false
   },
   "outputs": [],
   "source": [
    "nb_bags_train = 980\n",
    "# Create a vector with the unique values of y for each ID.\n",
    "y_train = train.groupby(\"id\")[\"y\"].median().values"
   ]
  },
  {
   "cell_type": "code",
   "execution_count": 10,
   "metadata": {
    "collapsed": true
   },
   "outputs": [],
   "source": [
    "def load_gram(csv_file, nb_bags_train):\n",
    "    # Import data\n",
    "    G = pd.read_csv(csv_file, header=None)\n",
    "    idx_train = nb_bags_train - 1\n",
    "    idx_test = nb_bags_train\n",
    "    G_train = G.loc[:idx_train, :idx_train]\n",
    "    G_test = G.loc[:idx_train, idx_test:]\n",
    "    return (G_train, G_test)"
   ]
  },
  {
   "cell_type": "code",
   "execution_count": 11,
   "metadata": {
    "collapsed": false
   },
   "outputs": [],
   "source": [
    "# Define models and import Gram matrices\n",
    "# Cauchy\n",
    "l2_reg_cauchy = 2**(-23)\n",
    "cauchy = RidgeRegression(l2_reg_cauchy)\n",
    "G_train_cauchy, G_test_cauchy = load_gram(\"Cauchy_16.csv\", nb_bags_train)\n",
    "\n",
    "# Matern 3/2 -> removed as it gave inferior results\n",
    "#l2_reg_matern_32 = 2**(-37)\n",
    "#matern_32 = RidgeRegression(l2_reg_matern_32)\n",
    "#G_train_matern_32, G_test_matern_32 = load_gram(\"Matern_32_1024.csv\", nb_bags_train)\n",
    "\n",
    "# Matern 5/2\n",
    "l2_reg_matern_52 = 2**(-36) # to change + csv name\n",
    "matern_52 = RidgeRegression(l2_reg_matern_52)\n",
    "G_train_matern_52, G_test_matern_52 = load_gram(\"Matern_52_128.csv\", nb_bags_train)\n",
    "\n",
    "# Rational quadratic\n",
    "l2_reg_rquadr = 2**(-28) # to change + csv name\n",
    "rquadr = RidgeRegression(l2_reg_rquadr)\n",
    "G_train_rquadr, G_test_rquadr = load_gram(\"rquadr_1024.csv\", nb_bags_train)"
   ]
  },
  {
   "cell_type": "code",
   "execution_count": 12,
   "metadata": {
    "collapsed": false
   },
   "outputs": [
    {
     "name": "stdout",
     "output_type": "stream",
     "text": [
      "Training is finished.\n"
     ]
    }
   ],
   "source": [
    "# Create our OOF train and test predictions. These base results will be used as new features.\n",
    "# Cauchy\n",
    "cauchy_oof_train, cauchy_oof_test = oof_prediction(cauchy, G_train_cauchy, \n",
    "                                                   y_train, G_test_cauchy)\n",
    "# Matern 3/2\n",
    "#matern_32_oof_train, matern_32_oof_test = oof_prediction(matern_32, G_train_matern_32, \n",
    " #                                                        y_train, G_test_matern_32)\n",
    "# Matern 5/2\n",
    "matern_52_oof_train, matern_52_oof_test = oof_prediction(matern_52, G_train_matern_52, \n",
    "                                                         y_train, G_test_matern_52)\n",
    "# Rational quadratic\n",
    "rquadr_oof_train, rquadr_oof_test = oof_prediction(rquadr, G_train_rquadr, \n",
    "                                                   y_train, G_test_rquadr)\n",
    "print(\"Training is finished.\")"
   ]
  },
  {
   "cell_type": "code",
   "execution_count": 13,
   "metadata": {
    "collapsed": false
   },
   "outputs": [
    {
     "data": {
      "text/plain": [
       "0.67685885815701352"
      ]
     },
     "execution_count": 13,
     "metadata": {},
     "output_type": "execute_result"
    }
   ],
   "source": [
    "RMSE(cauchy_oof_train, y_train)"
   ]
  },
  {
   "cell_type": "code",
   "execution_count": 14,
   "metadata": {
    "collapsed": false
   },
   "outputs": [],
   "source": [
    "#RMSE(matern_32_oof_train, y_train)"
   ]
  },
  {
   "cell_type": "code",
   "execution_count": 15,
   "metadata": {
    "collapsed": false
   },
   "outputs": [
    {
     "data": {
      "text/plain": [
       "0.68275251697962624"
      ]
     },
     "execution_count": 15,
     "metadata": {},
     "output_type": "execute_result"
    }
   ],
   "source": [
    "RMSE(matern_52_oof_train, y_train)"
   ]
  },
  {
   "cell_type": "code",
   "execution_count": 16,
   "metadata": {
    "collapsed": false
   },
   "outputs": [
    {
     "data": {
      "text/plain": [
       "0.67635136601886747"
      ]
     },
     "execution_count": 16,
     "metadata": {},
     "output_type": "execute_result"
    }
   ],
   "source": [
    "RMSE(rquadr_oof_train, y_train)"
   ]
  },
  {
   "cell_type": "markdown",
   "metadata": {},
   "source": [
    "### Second level prediction with DNN"
   ]
  },
  {
   "cell_type": "code",
   "execution_count": 17,
   "metadata": {
    "collapsed": false
   },
   "outputs": [
    {
     "data": {
      "text/html": [
       "<div>\n",
       "<table border=\"1\" class=\"dataframe\">\n",
       "  <thead>\n",
       "    <tr style=\"text-align: right;\">\n",
       "      <th></th>\n",
       "      <th>cauchy</th>\n",
       "      <th>matern_52</th>\n",
       "      <th>rquadr</th>\n",
       "      <th>y</th>\n",
       "    </tr>\n",
       "  </thead>\n",
       "  <tbody>\n",
       "    <tr>\n",
       "      <th>0</th>\n",
       "      <td>-3.607706</td>\n",
       "      <td>-3.492275</td>\n",
       "      <td>-3.534167</td>\n",
       "      <td>-3.998082</td>\n",
       "    </tr>\n",
       "    <tr>\n",
       "      <th>1</th>\n",
       "      <td>-4.315562</td>\n",
       "      <td>-4.342068</td>\n",
       "      <td>-4.355062</td>\n",
       "      <td>-4.137141</td>\n",
       "    </tr>\n",
       "    <tr>\n",
       "      <th>2</th>\n",
       "      <td>-2.688123</td>\n",
       "      <td>-2.675943</td>\n",
       "      <td>-2.657661</td>\n",
       "      <td>-2.694732</td>\n",
       "    </tr>\n",
       "    <tr>\n",
       "      <th>3</th>\n",
       "      <td>-3.377650</td>\n",
       "      <td>-3.449581</td>\n",
       "      <td>-3.443466</td>\n",
       "      <td>-3.296275</td>\n",
       "    </tr>\n",
       "    <tr>\n",
       "      <th>4</th>\n",
       "      <td>-3.717942</td>\n",
       "      <td>-3.701184</td>\n",
       "      <td>-3.693895</td>\n",
       "      <td>-3.181391</td>\n",
       "    </tr>\n",
       "  </tbody>\n",
       "</table>\n",
       "</div>"
      ],
      "text/plain": [
       "     cauchy  matern_52    rquadr         y\n",
       "0 -3.607706  -3.492275 -3.534167 -3.998082\n",
       "1 -4.315562  -4.342068 -4.355062 -4.137141\n",
       "2 -2.688123  -2.675943 -2.657661 -2.694732\n",
       "3 -3.377650  -3.449581 -3.443466 -3.296275\n",
       "4 -3.717942  -3.701184 -3.693895 -3.181391"
      ]
     },
     "execution_count": 17,
     "metadata": {},
     "output_type": "execute_result"
    }
   ],
   "source": [
    "kernel_train = pd.DataFrame({'cauchy': cauchy_oof_train.ravel(),\n",
    "                             #'matern_32': matern_32_oof_train.ravel(),\n",
    "                             'matern_52': matern_52_oof_train.ravel(),\n",
    "                             'rquadr': rquadr_oof_train.ravel()})\n",
    "\n",
    "kernel_train[\"y\"] = y_train\n",
    "\n",
    "kernel_test = pd.DataFrame({'cauchy': cauchy_oof_test.ravel(),\n",
    "                            #'matern_32': matern_32_oof_test.ravel(),\n",
    "                            'matern_52': matern_52_oof_test.ravel(),\n",
    "                            'rquadr': rquadr_oof_test.ravel()})\n",
    "\n",
    "cols_excl_kernel = [\"y\"]\n",
    "cols_kernel = [c for c in kernel_train.columns if c not in cols_excl_kernel]\n",
    "\n",
    "kernel_train.head()"
   ]
  },
  {
   "cell_type": "code",
   "execution_count": 20,
   "metadata": {
    "collapsed": false
   },
   "outputs": [
    {
     "data": {
      "text/plain": [
       "<matplotlib.axes._subplots.AxesSubplot at 0x10eccb790>"
      ]
     },
     "execution_count": 20,
     "metadata": {},
     "output_type": "execute_result"
    },
    {
     "data": {
      "image/png": "[encoded data removed]",
      "text/plain": [
       "<matplotlib.figure.Figure at 0x10eaa2e50>"
      ]
     },
     "metadata": {},
     "output_type": "display_data"
    }
   ],
   "source": [
    "# Check predictions correlation\n",
    "corr_matrix = kernel_train.corr()\n",
    "\n",
    "fig, ax = plt.subplots(figsize=(8, 6))\n",
    "sns.heatmap(corr_matrix, linewidths=0.2, ax=ax)"
   ]
  },
  {
   "cell_type": "markdown",
   "metadata": {},
   "source": [
    "### Cross-validation for MLPRegressor"
   ]
  },
  {
   "cell_type": "code",
   "execution_count": 26,
   "metadata": {
    "collapsed": true
   },
   "outputs": [],
   "source": [
    "def scoring_function(parameters):\n",
    "    print(\"Training the model with parameters: \")\n",
    "    print(parameters)\n",
    "    average_RMSE = 0.0\n",
    "    n_splits = 5\n",
    "    \n",
    "    kf = KFold(n_splits=n_splits)\n",
    "    nb_fold = 0\n",
    "    for train_index, validation_index in kf.split(kernel_train):\n",
    "        nb_fold += 1\n",
    "        train_fold, validation_fold = kernel_train.loc[train_index], kernel_train.loc[validation_index]\n",
    "\n",
    "        #MPL Regressor\n",
    "        model_dnn = MLPRegressor(hidden_layer_sizes=(parameters[\"nb_neurons\"],),\n",
    "                                 max_iter=parameters[\"steps\"],\n",
    "                                 alpha=parameters[\"MLP_l2_reg\"],\n",
    "                                 early_stopping=True,\n",
    "                                 random_state=random_seed)\n",
    "        model_dnn.fit(train_fold[cols_kernel], train_fold[\"y\"])\n",
    "        y_hat_train = model_dnn.predict(train_fold[cols_kernel])\n",
    "\n",
    "        RMSE_train = RMSE(y_hat_train, train_fold[\"y\"].values)\n",
    "        print(\"Training RMSE: {0}\".format(RMSE_train))\n",
    "\n",
    "        y_hat_test = model_dnn.predict(validation_fold[cols_kernel])\n",
    "\n",
    "        RMSE_test = RMSE(y_hat_test, validation_fold[\"y\"].values)\n",
    "        \n",
    "        average_RMSE += RMSE_test\n",
    "        print(\"Validation fold {0} RMSE: {1}\".format(nb_fold, RMSE_test))\n",
    "\n",
    "    average_RMSE /= n_splits\n",
    "\n",
    "    print(\"Cross-validation score: {0}\\n\".format(average_RMSE))\n",
    "    \n",
    "    return {\"loss\": average_RMSE, \"status\": STATUS_OK}"
   ]
  },
  {
   "cell_type": "code",
   "execution_count": 43,
   "metadata": {
    "collapsed": false
   },
   "outputs": [
    {
     "name": "stdout",
     "output_type": "stream",
     "text": [
      "Training the model with parameters: \n",
      "{'MLP_l2_reg': 0.00390625, 'steps': 1000, 'nb_neurons': 10}\n",
      "Training RMSE: 0.686387403693\n",
      "Validation fold 1 RMSE: 0.627589188736\n",
      "Training RMSE: 0.673979872265\n",
      "Validation fold 2 RMSE: 0.663013328256\n",
      "Training RMSE: 0.66515817709\n",
      "Validation fold 3 RMSE: 0.705848993376\n",
      "Training RMSE: 0.689029997789\n",
      "Validation fold 4 RMSE: 0.646774949387\n",
      "Training RMSE: 0.665400716024\n",
      "Validation fold 5 RMSE: 0.735286281633\n",
      "Cross-validation score: 0.675702548278\n",
      "\n",
      "Training the model with parameters: \n",
      "{'MLP_l2_reg': 0.001953125, 'steps': 1000, 'nb_neurons': 10}\n",
      "Training RMSE: 0.686015866456\n",
      "Validation fold 1 RMSE: 0.625964692048\n",
      "Training RMSE: 0.674055077929\n",
      "Validation fold 2 RMSE: 0.663578805735\n",
      "Training RMSE: 0.665150978438\n",
      "Validation fold 3 RMSE: 0.705870709249\n",
      "Training RMSE: 0.689053761664\n",
      "Validation fold 4 RMSE: 0.646775790196\n",
      "Training RMSE: 0.667385288618\n",
      "Validation fold 5 RMSE: 0.736884682983\n",
      "Cross-validation score: 0.675814936042\n",
      "\n",
      "Training the model with parameters: \n",
      "{'MLP_l2_reg': 0.001953125, 'steps': 1000, 'nb_neurons': 10}\n",
      "Training RMSE: 0.686015866456\n",
      "Validation fold 1 RMSE: 0.625964692048\n",
      "Training RMSE: 0.674055077929\n",
      "Validation fold 2 RMSE: 0.663578805735\n",
      "Training RMSE: 0.665150978438\n",
      "Validation fold 3 RMSE: 0.705870709249\n",
      "Training RMSE: 0.689053761664\n",
      "Validation fold 4 RMSE: 0.646775790196\n",
      "Training RMSE: 0.667385288618\n",
      "Validation fold 5 RMSE: 0.736884682983\n",
      "Cross-validation score: 0.675814936042\n",
      "\n",
      "Training the model with parameters: \n",
      "{'MLP_l2_reg': 0.0078125, 'steps': 1000, 'nb_neurons': 10}\n",
      "Training RMSE: 0.685729066792\n",
      "Validation fold 1 RMSE: 0.62612219687\n",
      "Training RMSE: 0.674771409568\n",
      "Validation fold 2 RMSE: 0.662895532253\n",
      "Training RMSE: 0.664522979505\n",
      "Validation fold 3 RMSE: 0.70522919445\n",
      "Training RMSE: 0.689064761126\n",
      "Validation fold 4 RMSE: 0.646808710986\n",
      "Training RMSE: 0.665382221757\n",
      "Validation fold 5 RMSE: 0.735238572947\n",
      "Cross-validation score: 0.675258841501\n",
      "\n",
      "Training the model with parameters: \n",
      "{'MLP_l2_reg': 0.00390625, 'steps': 1000, 'nb_neurons': 10}\n",
      "Training RMSE: 0.686387403693\n",
      "Validation fold 1 RMSE: 0.627589188736\n",
      "Training RMSE: 0.673979872265\n",
      "Validation fold 2 RMSE: 0.663013328256\n",
      "Training RMSE: 0.66515817709\n",
      "Validation fold 3 RMSE: 0.705848993376\n",
      "Training RMSE: 0.689029997789\n",
      "Validation fold 4 RMSE: 0.646774949387\n",
      "Training RMSE: 0.665400716024\n",
      "Validation fold 5 RMSE: 0.735286281633\n",
      "Cross-validation score: 0.675702548278\n",
      "\n",
      "Training the model with parameters: \n",
      "{'MLP_l2_reg': 0.00390625, 'steps': 1000, 'nb_neurons': 10}\n",
      "Training RMSE: 0.686387403693\n",
      "Validation fold 1 RMSE: 0.627589188736\n",
      "Training RMSE: 0.673979872265\n",
      "Validation fold 2 RMSE: 0.663013328256\n",
      "Training RMSE: 0.66515817709\n",
      "Validation fold 3 RMSE: 0.705848993376\n",
      "Training RMSE: 0.689029997789\n",
      "Validation fold 4 RMSE: 0.646774949387\n",
      "Training RMSE: 0.665400716024\n",
      "Validation fold 5 RMSE: 0.735286281633\n",
      "Cross-validation score: 0.675702548278\n",
      "\n",
      "Training the model with parameters: \n",
      "{'MLP_l2_reg': 0.015625, 'steps': 1000, 'nb_neurons': 10}\n",
      "Training RMSE: 0.686183849637\n",
      "Validation fold 1 RMSE: 0.627294732421\n",
      "Training RMSE: 0.675276041775\n",
      "Validation fold 2 RMSE: 0.664114644921\n",
      "Training RMSE: 0.665047036173\n",
      "Validation fold 3 RMSE: 0.705793361854\n",
      "Training RMSE: 0.688960965722\n",
      "Validation fold 4 RMSE: 0.646747302594\n",
      "Training RMSE: 0.660887577147\n",
      "Validation fold 5 RMSE: 0.726698868003\n",
      "Cross-validation score: 0.674129781958\n",
      "\n",
      "Training the model with parameters: \n",
      "{'MLP_l2_reg': 0.001953125, 'steps': 1000, 'nb_neurons': 10}\n",
      "Training RMSE: 0.686015866456\n",
      "Validation fold 1 RMSE: 0.625964692048\n",
      "Training RMSE: 0.674055077929\n",
      "Validation fold 2 RMSE: 0.663578805735\n",
      "Training RMSE: 0.665150978438\n",
      "Validation fold 3 RMSE: 0.705870709249\n",
      "Training RMSE: 0.689053761664\n",
      "Validation fold 4 RMSE: 0.646775790196\n",
      "Training RMSE: 0.667385288618\n",
      "Validation fold 5 RMSE: 0.736884682983\n",
      "Cross-validation score: 0.675814936042\n",
      "\n",
      "Training the model with parameters: \n",
      "{'MLP_l2_reg': 0.0078125, 'steps': 1000, 'nb_neurons': 10}\n",
      "Training RMSE: 0.685729066792\n",
      "Validation fold 1 RMSE: 0.62612219687\n",
      "Training RMSE: 0.674771409568\n",
      "Validation fold 2 RMSE: 0.662895532253\n",
      "Training RMSE: 0.664522979505\n",
      "Validation fold 3 RMSE: 0.70522919445\n",
      "Training RMSE: 0.689064761126\n",
      "Validation fold 4 RMSE: 0.646808710986\n",
      "Training RMSE: 0.665382221757\n",
      "Validation fold 5 RMSE: 0.735238572947\n",
      "Cross-validation score: 0.675258841501\n",
      "\n",
      "Training the model with parameters: \n",
      "{'MLP_l2_reg': 0.001953125, 'steps': 1000, 'nb_neurons': 10}\n",
      "Training RMSE: 0.686015866456\n",
      "Validation fold 1 RMSE: 0.625964692048\n",
      "Training RMSE: 0.674055077929\n",
      "Validation fold 2 RMSE: 0.663578805735\n",
      "Training RMSE: 0.665150978438\n",
      "Validation fold 3 RMSE: 0.705870709249\n",
      "Training RMSE: 0.689053761664\n",
      "Validation fold 4 RMSE: 0.646775790196\n",
      "Training RMSE: 0.667385288618\n",
      "Validation fold 5 RMSE: 0.736884682983\n",
      "Cross-validation score: 0.675814936042\n",
      "\n"
     ]
    }
   ],
   "source": [
    "# Grid to pick parameters from.\n",
    "parameters_grid = {\"steps\"             : hp.choice(\"steps\", np.arange(1000, 1100, 100, dtype=int)),\n",
    "                   \"nb_neurons\"      : hp.choice(\"nb_neurons\", np.arange(10, 11, 1, dtype=int)),\n",
    "                   \"MLP_l2_reg\": hp.choice(\"MLP_l2_reg\", np.power(2.0, np.arange(-9, -5)))\n",
    "                  }\n",
    "# Record the information about the cross-validation.\n",
    "trials = Trials()\n",
    "\n",
    "best = fmin(scoring_function, parameters_grid, algo=tpe.suggest, max_evals=10, \n",
    "            trials=trials)"
   ]
  },
  {
   "cell_type": "code",
   "execution_count": 34,
   "metadata": {
    "collapsed": false
   },
   "outputs": [
    {
     "data": {
      "text/plain": [
       "0.6739617355611843"
      ]
     },
     "execution_count": 34,
     "metadata": {},
     "output_type": "execute_result"
    }
   ],
   "source": [
    "min(trials.losses())"
   ]
  },
  {
   "cell_type": "code",
   "execution_count": 31,
   "metadata": {
    "collapsed": false
   },
   "outputs": [
    {
     "data": {
      "text/html": [
       "<div>\n",
       "<table border=\"1\" class=\"dataframe\">\n",
       "  <thead>\n",
       "    <tr style=\"text-align: right;\">\n",
       "      <th></th>\n",
       "      <th>MLP_l2_reg</th>\n",
       "      <th>nb_neurons</th>\n",
       "      <th>steps</th>\n",
       "      <th>score</th>\n",
       "    </tr>\n",
       "  </thead>\n",
       "  <tbody>\n",
       "    <tr>\n",
       "      <th>0</th>\n",
       "      <td>0.00941</td>\n",
       "      <td>10</td>\n",
       "      <td>1000</td>\n",
       "      <td>0.673803</td>\n",
       "    </tr>\n",
       "  </tbody>\n",
       "</table>\n",
       "</div>"
      ],
      "text/plain": [
       "   MLP_l2_reg  nb_neurons  steps     score\n",
       "0     0.00941          10   1000  0.673803"
      ]
     },
     "execution_count": 31,
     "metadata": {},
     "output_type": "execute_result"
    }
   ],
   "source": [
    "# Save the best parameters as a csv.\n",
    "best_parameters = pd.DataFrame({key: [value] for (key, value) in \n",
    "                                zip(space_eval(parameters_grid, best).keys(),\n",
    "                                    space_eval(parameters_grid, best).values())})\n",
    "# Add the corresponding score.\n",
    "best_parameters[\"score\"] = min(trials.losses())\n",
    "best_parameters.to_csv(\"best_parameters_10.csv\", encoding=\"utf-8\", index=False)\n",
    "\n",
    "best_parameters"
   ]
  },
  {
   "cell_type": "markdown",
   "metadata": {},
   "source": [
    "### Prediction"
   ]
  },
  {
   "cell_type": "code",
   "execution_count": 22,
   "metadata": {
    "collapsed": false
   },
   "outputs": [
    {
     "data": {
      "text/plain": [
       "MLPRegressor(activation='relu', alpha=0.00941, batch_size='auto', beta_1=0.9,\n",
       "       beta_2=0.999, early_stopping=True, epsilon=1e-08,\n",
       "       hidden_layer_sizes=10, learning_rate='constant',\n",
       "       learning_rate_init=0.001, max_iter=1000, momentum=0.9,\n",
       "       nesterovs_momentum=True, power_t=0.5, random_state=8, shuffle=True,\n",
       "       solver='adam', tol=0.0001, validation_fraction=0.1, verbose=False,\n",
       "       warm_start=False)"
      ]
     },
     "execution_count": 22,
     "metadata": {},
     "output_type": "execute_result"
    }
   ],
   "source": [
    "#MPL Regressor\n",
    "best_parameters = pd.read_csv(\"best_parameters_10.csv\", encoding=\"utf-8\")\n",
    "\n",
    "model_dnn = MLPRegressor(hidden_layer_sizes=(best_parameters[\"nb_neurons\"][0]),\n",
    "                         max_iter=best_parameters[\"steps\"][0],\n",
    "                         alpha=best_parameters[\"MLP_l2_reg\"][0],\n",
    "                         early_stopping=True,\n",
    "                         random_state=random_seed)\n",
    "model_dnn.fit(kernel_train[cols_kernel], y_train)"
   ]
  },
  {
   "cell_type": "code",
   "execution_count": 23,
   "metadata": {
    "collapsed": false
   },
   "outputs": [
    {
     "data": {
      "text/plain": [
       "0.67428005689905501"
      ]
     },
     "execution_count": 23,
     "metadata": {},
     "output_type": "execute_result"
    }
   ],
   "source": [
    "# Training error\n",
    "RMSE(model_dnn.predict(kernel_train[cols_kernel]), y_train)"
   ]
  },
  {
   "cell_type": "code",
   "execution_count": 24,
   "metadata": {
    "collapsed": false
   },
   "outputs": [],
   "source": [
    "# Prediction\n",
    "y_hat_test = model_dnn.predict(kernel_test[cols_kernel])\n",
    "\n",
    "test_pred = test.groupby(\"id\")[[\"y\"]].mean().reset_index()\n",
    "test_pred[\"y\"] = y_hat_test\n",
    "test_pred.columns = [\"Id\", \"y\"]"
   ]
  },
  {
   "cell_type": "code",
   "execution_count": 25,
   "metadata": {
    "collapsed": false
   },
   "outputs": [],
   "source": [
    "# Save as a .csv\n",
    "test_pred.to_csv(\"Prediction_10.csv\", index=False)"
   ]
  },
  {
   "cell_type": "code",
   "execution_count": null,
   "metadata": {
    "collapsed": true
   },
   "outputs": [],
   "source": []
  }
 ],
 "metadata": {
  "kernelspec": {
   "display_name": "Python 2",
   "language": "python",
   "name": "python2"
  },
  "language_info": {
   "codemirror_mode": {
    "name": "ipython",
    "version": 2
   },
   "file_extension": ".py",
   "mimetype": "text/x-python",
   "name": "python",
   "nbconvert_exporter": "python",
   "pygments_lexer": "ipython2",
   "version": "2.7.13"
  }
 },
 "nbformat": 4,
 "nbformat_minor": 2
}
